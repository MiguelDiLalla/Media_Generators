{
  "nbformat": 4,
  "nbformat_minor": 0,
  "metadata": {
    "colab": {
      "provenance": [],
      "authorship_tag": "ABX9TyMGJvqxwxfoqGqTB7ERPxx8",
      "include_colab_link": true
    },
    "kernelspec": {
      "name": "python3",
      "display_name": "Python 3"
    },
    "language_info": {
      "name": "python"
    }
  },
  "cells": [
    {
      "cell_type": "markdown",
      "metadata": {
        "id": "view-in-github",
        "colab_type": "text"
      },
      "source": [
        "<a href=\"https://colab.research.google.com/github/MiguelDiLalla/Media_Generators/blob/main/Colab_AudioProcesing.ipynb\" target=\"_parent\"><img src=\"https://colab.research.google.com/assets/colab-badge.svg\" alt=\"Open In Colab\"/></a>"
      ]
    },
    {
      "cell_type": "code",
      "source": [
        "# prompt: install dependencies\n",
        "\n",
        "!pip install whisper\n"
      ],
      "metadata": {
        "id": "OdoxHls808Ld"
      },
      "execution_count": null,
      "outputs": []
    },
    {
      "cell_type": "code",
      "execution_count": 1,
      "metadata": {
        "colab": {
          "base_uri": "https://localhost:8080/",
          "height": 412
        },
        "id": "HQVUrjj8038A",
        "outputId": "047bb813-284b-42d1-9450-6fa28b02bc4c"
      },
      "outputs": [
        {
          "output_type": "error",
          "ename": "ModuleNotFoundError",
          "evalue": "No module named 'whisper'",
          "traceback": [
            "\u001b[0;31m---------------------------------------------------------------------------\u001b[0m",
            "\u001b[0;31mModuleNotFoundError\u001b[0m                       Traceback (most recent call last)",
            "\u001b[0;32m<ipython-input-1-07261d0faf29>\u001b[0m in \u001b[0;36m<cell line: 0>\u001b[0;34m()\u001b[0m\n\u001b[1;32m      3\u001b[0m \u001b[0;32mimport\u001b[0m \u001b[0mnumpy\u001b[0m \u001b[0;32mas\u001b[0m \u001b[0mnp\u001b[0m\u001b[0;34m\u001b[0m\u001b[0;34m\u001b[0m\u001b[0m\n\u001b[1;32m      4\u001b[0m \u001b[0;32mimport\u001b[0m \u001b[0mlibrosa\u001b[0m\u001b[0;34m\u001b[0m\u001b[0;34m\u001b[0m\u001b[0m\n\u001b[0;32m----> 5\u001b[0;31m \u001b[0;32mimport\u001b[0m \u001b[0mwhisper\u001b[0m\u001b[0;34m\u001b[0m\u001b[0;34m\u001b[0m\u001b[0m\n\u001b[0m\u001b[1;32m      6\u001b[0m \u001b[0;32mfrom\u001b[0m \u001b[0mgoogle\u001b[0m\u001b[0;34m.\u001b[0m\u001b[0mcolab\u001b[0m \u001b[0;32mimport\u001b[0m \u001b[0mfiles\u001b[0m\u001b[0;34m\u001b[0m\u001b[0;34m\u001b[0m\u001b[0m\n\u001b[1;32m      7\u001b[0m \u001b[0;34m\u001b[0m\u001b[0m\n",
            "\u001b[0;31mModuleNotFoundError\u001b[0m: No module named 'whisper'",
            "",
            "\u001b[0;31m---------------------------------------------------------------------------\u001b[0;32m\nNOTE: If your import is failing due to a missing package, you can\nmanually install dependencies using either !pip or !apt.\n\nTo view examples of installing some common dependencies, click the\n\"Open Examples\" button below.\n\u001b[0;31m---------------------------------------------------------------------------\u001b[0m\n"
          ],
          "errorDetails": {
            "actions": [
              {
                "action": "open_url",
                "actionText": "Open Examples",
                "url": "/notebooks/snippets/importing_libraries.ipynb"
              }
            ]
          }
        }
      ],
      "source": [
        "import os\n",
        "import json\n",
        "import numpy as np\n",
        "import librosa\n",
        "import whisper\n",
        "from google.colab import files\n",
        "\n",
        "# Function to upload an audio file\n",
        "def upload_audio():\n",
        "    print(\"Please upload your audio file:\")\n",
        "    uploaded = files.upload()\n",
        "    if len(uploaded) > 0:\n",
        "        audio_path = list(uploaded.keys())[0]\n",
        "        print(f\"[INFO] Uploaded: {audio_path}\")\n",
        "        return audio_path\n",
        "    else:\n",
        "        raise Exception(\"No file uploaded.\")\n",
        "\n",
        "# Function to compute audio intensity\n",
        "def compute_audio_intensity(audio_path):\n",
        "    print(\"[INFO] Computing audio intensity...\")\n",
        "    y, sr = librosa.load(audio_path, sr=22050)  # Load audio and downsample\n",
        "    rms = librosa.feature.rms(y=y, frame_length=2048, hop_length=512)[0]  # RMS energy\n",
        "    normalized_rms = rms / np.max(rms)  # Normalize to [0, 1]\n",
        "    print(\"[INFO] Audio intensity computation complete.\")\n",
        "    return normalized_rms, sr\n",
        "\n",
        "# Function to transcribe audio and compute WPM\n",
        "def compute_wpm(audio_path):\n",
        "    print(\"[INFO] Transcribing audio with Whisper...\")\n",
        "    model = whisper.load_model(\"base\")  # Use Whisper's base model for faster processing\n",
        "    result = model.transcribe(audio_path)\n",
        "    text = result['text']\n",
        "\n",
        "    # Compute words per minute (WPM)\n",
        "    word_count = len(text.split())\n",
        "    duration_minutes = result['duration'] / 60  # Duration in minutes\n",
        "    wpm = word_count / duration_minutes\n",
        "\n",
        "    print(\"[INFO] Transcription and WPM calculation complete.\")\n",
        "    return text, wpm\n",
        "\n",
        "# Function to save results as JSON\n",
        "def save_results(intensity, wpm, output_path=\"audio_data.json\"):\n",
        "    print(f\"[INFO] Saving results to {output_path}...\")\n",
        "    data = {\n",
        "        \"intensity\": intensity.tolist(),  # Convert NumPy array to list\n",
        "        \"wpm\": wpm\n",
        "    }\n",
        "    with open(output_path, \"w\") as f:\n",
        "        json.dump(data, f)\n",
        "    print(f\"[INFO] Results saved to {output_path}.\")\n",
        "    return output_path\n",
        "\n",
        "# Main execution flow\n",
        "def main():\n",
        "    # Step 1: Upload audio file\n",
        "    audio_path = upload_audio()\n",
        "\n",
        "    # Step 2: Process audio\n",
        "    intensity, sr = compute_audio_intensity(audio_path)\n",
        "\n",
        "    # Step 3: Transcribe audio and compute WPM\n",
        "    text, wpm = compute_wpm(audio_path)\n",
        "\n",
        "    # Step 4: Save results\n",
        "    output_file = save_results(intensity, wpm)\n",
        "\n",
        "    # Step 5: Download results\n",
        "    print(\"[INFO] Preparing results for download...\")\n",
        "    files.download(output_file)\n",
        "\n",
        "if __name__ == \"__main__\":\n",
        "    main()\n"
      ]
    }
  ]
}